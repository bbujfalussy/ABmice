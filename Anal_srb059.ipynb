{
 "cells": [
  {
   "cell_type": "markdown",
   "metadata": {},
   "source": [
    "# Analysis of the imaging experiment\n",
    "mouse name: 059  \n",
    "task: NearFar  \n",
    "experimentalist: Snezana Raus-Balind  \n",
    "\n",
    "### 1. Load the necessary object class\n",
    "We use a custom-made class, ImagingSessionData, that will contain all behavioral and imaging data. We also load the matplotlib widgets to make graphis interactive under the notebook environment."
   ]
  },
  {
   "cell_type": "code",
   "execution_count": 1,
   "metadata": {},
   "outputs": [],
   "source": [
    "from ImageAnal import *\n",
    "%matplotlib widget"
   ]
  },
  {
   "cell_type": "markdown",
   "metadata": {},
   "source": [
    "### 2. Tell python where the data is\n",
    "The required file structure is the following:  \n",
    "- All data should be in the data folder\n",
    "- Within the data folder separate subfolders are needed for each mouse. Folder name starts with the **name** of the mouse.\n",
    "- For each mouse there should be at least two folders: one for the **imaging** data and one for the **behavioral** data.\n",
    "- The behavioral folder is named as `MouseName_TaskName` - so we need a separate folder for each different task\n",
    "- The behavioral log files are in separate subfolders named by the experiment's start time within the behavioral folder - e.g. `2021-02-03_10-15-50`\n",
    "- The imaging folder is named as `MouseName_imaging`\n",
    "- The suite2p imaging files are also in separate folders for each experiment below the imaging folder. "
   ]
  },
  {
   "cell_type": "code",
   "execution_count": 2,
   "metadata": {},
   "outputs": [],
   "source": [
    "datapath = os.getcwd() + '/' #current working directory - look for data and strings here!\n",
    "date_time = '2021-02-03_10-15-50' # date and time of the imaging session\n",
    "name = 'srb059' # mouse name\n",
    "task = 'NearFar' # task name\n",
    "\n",
    "## locate the suite2p folder\n",
    "suite2p_folder = datapath + 'data/' + name + '_imaging/Suite2P_4_19-05-2021/'\n",
    "\n",
    "## the name and location of the imaging log file\n",
    "imaging_logfile_name = suite2p_folder + 'srb059_TSeries-02032021-1011-001.xml'\n",
    "\n",
    "## the name and location of the trigger voltage file\n",
    "TRIGGER_VOLTAGE_FILENAME = suite2p_folder + 'srb059_TSeries-02032021-1011-001_Cycle00001_VoltageRecording_001.csv'"
   ]
  },
  {
   "cell_type": "markdown",
   "metadata": {},
   "source": [
    "### 3. Load all the data - this taks ~20 secs in my computer\n",
    "Python looks for the data in the specified folders. It loads the behavioral data (position, lick and rewards) as well as the imaging data. It calculates the activity of the cells as a function of position in the different corridors and calculates their spatial tuning measures and corridor selectivity.  \n",
    "The name of the object that contains all the data is `D1` here - Data 1."
   ]
  },
  {
   "cell_type": "code",
   "execution_count": 3,
   "metadata": {},
   "outputs": [
    {
     "name": "stdout",
     "output_type": "stream",
     "text": [
      "trigger logfile loaded\n",
      "trigger voltage signal loaded\n",
      "triggers after: 22\n",
      "n_extra_indexes 5\n",
      "candidate log indexes [0, 99, 178]\n",
      "min recorded trigger length: 0.012000000000000455\n",
      "relevant behavior located, lap time of the first frame: 870.993125 , log reference index: 99\n",
      "slight warning - testing some late candidates failed\n",
      "suite2p data loaded\n",
      "corrected offset: 870.9851249999999 voltage_delay: 0.0080000000000382\n",
      "suite2p time axis loaded\n",
      "calculating dF/F and SNR...\n"
     ]
    },
    {
     "name": "stderr",
     "output_type": "stream",
     "text": [
      "/Users/ubi/Projects/KOKI/VR/MiceData/ImageAnal.py:408: RuntimeWarning: invalid value encountered in true_divide\n",
      "  self.dF_F[i_cell,] = (self.F[i_cell,] - baseline) / baseline\n"
     ]
    },
    {
     "name": "stdout",
     "output_type": "stream",
     "text": [
      "SNR done\n",
      "dF/F calculated for cell ROI-s\n",
      "ExpStateMachineLog time interval > 1s:  10  times\n",
      "[   5.03966018  178.07813661  184.49403693  186.90899334  207.4688484\n",
      "  213.4257944   217.7201534   392.68928535  653.35621006 1802.07914619]\n",
      "calculating rate, reliability and Fano factor...\n",
      "calculating Skaggs spatial info...\n",
      "calculating proportion of active laps...\n",
      "calculating proportion of active laps based on dF/F ...\n",
      "calculating linear tuning specificity ...\n",
      "calculating rate, reliability and Fano factor...\n"
     ]
    },
    {
     "name": "stderr",
     "output_type": "stream",
     "text": [
      "/Users/ubi/Projects/KOKI/VR/MiceData/utils.py:17: RuntimeWarning: invalid value encountered in true_divide\n",
      "  r = np.divide(r_num, r_den, out=out_vec, where=vec_nonzero)\n"
     ]
    },
    {
     "name": "stdout",
     "output_type": "stream",
     "text": [
      "calculating Skaggs spatial info...\n",
      "calculating proportion of active laps...\n",
      "calculating proportion of active laps based on dF/F ...\n",
      "calculating linear tuning specificity ...\n",
      "calculating corridor selectivity ...\n",
      "calculating corridor similarity ...\n"
     ]
    }
   ],
   "source": [
    "# 3. load all the data - this taks ~20 secs in my computer\n",
    "D1 = ImagingSessionData(datapath, date_time, name, task, suite2p_folder, imaging_logfile_name, TRIGGER_VOLTAGE_FILENAME)#, startendlap=[27, 99])\n"
   ]
  },
  {
   "cell_type": "markdown",
   "metadata": {},
   "source": [
    "The behavior is divided into laps (trials or runs). You can check the **number of laps** and which lap is associated with imaging data in the following way:"
   ]
  },
  {
   "cell_type": "code",
   "execution_count": 4,
   "metadata": {
    "scrolled": true
   },
   "outputs": [
    {
     "name": "stdout",
     "output_type": "stream",
     "text": [
      "178\n",
      "[ 33  34  35  36  37  38  39  40  41  42  43  44  45  46  47  48  49  50\n",
      "  51  52  53  54  55  56  57  58  59  60  61  62  63  64  65  66  67  68\n",
      "  69  70  71  72  73  74  75  76  77  78  79  80  81  82  83  84  85  86\n",
      "  87  88  89  90  91  92  93  94  95  96  97  98  99 100 101 102 103 104\n",
      " 105 106 107 108 109 110 111 112 113 114 115 116 117 118 119 120 121 122\n",
      " 123 124 125 126 127 128 129 130 131 132 133 134 135 136 137 138 139 140\n",
      " 141 142 143 144 145 146 147 148 149 150 151 152 153 154 155 156 157 158\n",
      " 159 160 161 162 163 164 165 166 167]\n"
     ]
    }
   ],
   "source": [
    "print(D1.n_laps)\n",
    "print(D1.i_Laps_ImData)"
   ]
  },
  {
   "cell_type": "markdown",
   "metadata": {},
   "source": [
    "So we have 178 laps and laps 33-167 contain imaging data.  \n",
    "### 4. Plotting the behavioral data\n",
    "You can plot the behavioral data of the session:"
   ]
  },
  {
   "cell_type": "code",
   "execution_count": 5,
   "metadata": {},
   "outputs": [
    {
     "data": {
      "application/vnd.jupyter.widget-view+json": {
       "model_id": "b2b499ff8e7b4d8ebaa1746cfc238e8d",
       "version_major": 2,
       "version_minor": 0
      },
      "text/plain": [
       "Canvas(toolbar=Toolbar(toolitems=[('Home', 'Reset original view', 'home', 'home'), ('Back', 'Back to previous …"
      ]
     },
     "metadata": {},
     "output_type": "display_data"
    }
   ],
   "source": [
    "D1.plot_session(selected_laps=D1.i_Laps_ImData)"
   ]
  },
  {
   "cell_type": "markdown",
   "metadata": {},
   "source": [
    "### 5. Plot the ratemaps\n",
    "First, we plot the ratemaps of some neurons. There are several options - selecting the cells, sorting and normalising the ratemaps.\n",
    "- selection: here we select all active cells (activity in at least 20% of laps), but any other selection criteria \n",
    "- sorting: place fields can be sorted by either corridors\n",
    "- place cells can be normalised - so the peak has the same height"
   ]
  },
  {
   "cell_type": "code",
   "execution_count": 6,
   "metadata": {},
   "outputs": [
    {
     "data": {
      "application/vnd.jupyter.widget-view+json": {
       "model_id": "03706c305c7a47b7b7f0cc3062854b08",
       "version_major": 2,
       "version_minor": 0
      },
      "text/plain": [
       "Canvas(toolbar=Toolbar(toolitems=[('Home', 'Reset original view', 'home', 'home'), ('Back', 'Back to previous …"
      ]
     },
     "metadata": {},
     "output_type": "display_data"
    }
   ],
   "source": [
    "cellids = np.nonzero(((D1.cell_activelaps[0]>0.2) + (D1.cell_activelaps[1]>0.2)))[0]\n",
    "D1.plot_ratemaps(cellids = cellids, sorted=True, corridor_sort=3, normalized=True)"
   ]
  },
  {
   "cell_type": "markdown",
   "metadata": {},
   "source": [
    "### 6. Plot the spatial properies of the neurons"
   ]
  },
  {
   "cell_type": "code",
   "execution_count": 7,
   "metadata": {},
   "outputs": [
    {
     "data": {
      "application/vnd.jupyter.widget-view+json": {
       "model_id": "d41da716768f4dd68203503b05f5532c",
       "version_major": 2,
       "version_minor": 0
      },
      "text/plain": [
       "Canvas(toolbar=Toolbar(toolitems=[('Home', 'Reset original view', 'home', 'home'), ('Back', 'Back to previous …"
      ]
     },
     "metadata": {},
     "output_type": "display_data"
    }
   ],
   "source": [
    "D1.plot_properties(cellids=cellids, interactive=False)"
   ]
  },
  {
   "cell_type": "markdown",
   "metadata": {},
   "source": [
    "### 7. Calculate significance of tuning by shuffling the imaging data "
   ]
  },
  {
   "cell_type": "code",
   "execution_count": 8,
   "metadata": {},
   "outputs": [
    {
     "name": "stdout",
     "output_type": "stream",
     "text": [
      "loading shuffling P-values from file...\n",
      "0\n",
      "1\n",
      "selective cells: [  3   5  15  16  23  26  29  33  34  35  36  56  68  72  74  76  77  79\n",
      "  82  84  85  87  88  89  93  95 107 115 122 125 126 141 143 144 152 154\n",
      " 158 160 162 166 168 172 182 187 191 195 211 213 217 231 233 234 235 239\n",
      " 250 251 253 265 266 269 273 280 281 282 287 290 292 295 299 300 301 302\n",
      " 307 311 314 315 320 321 326 328 330 349 359 363 370 371 376 379 380 385\n",
      " 388 396 397 399 401 406 419 422 424 427 429 430 433 436 442 446 466 471\n",
      " 475 476 488 501 505 518 521 526 533 545 548 555 556 559 562 563 564 568\n",
      " 569 581 585 589 590 595 597 603 613 654 659 661 683 686 687 693 695 699\n",
      " 702 706 708 712 714 718 736 739 753 762 780 830 844 846 855 861 878 888\n",
      " 891 892 903 910 913 918 992]\n",
      "similar cells: [ 13  89 106 185 221 310 313 320 327 357 409 468 521 571 818 913]\n"
     ]
    }
   ],
   "source": [
    "D1.calc_shuffle(cellids, 1000, 'shift', batchsize=50)"
   ]
  },
  {
   "cell_type": "code",
   "execution_count": 13,
   "metadata": {},
   "outputs": [
    {
     "name": "stdout",
     "output_type": "stream",
     "text": [
      "[array([   2,    5,    8,    9,   10,   12,   13,   14,   16,   19,   22,\n",
      "         23,   24,   26,   27,   28,   30,   31,   35,   36,   38,   40,\n",
      "         41,   42,   43,   45,   46,   47,   49,   51,   52,   56,   65,\n",
      "         66,   68,   69,   70,   71,   72,   73,   76,   77,   78,   79,\n",
      "         80,   81,   85,   86,   87,   88,   89,   90,   92,   94,   95,\n",
      "         98,   99,  100,  103,  104,  107,  109,  110,  112,  115,  117,\n",
      "        119,  120,  121,  122,  125,  128,  132,  133,  134,  136,  137,\n",
      "        141,  142,  143,  144,  145,  147,  148,  149,  151,  152,  153,\n",
      "        154,  156,  157,  158,  159,  160,  161,  162,  163,  168,  170,\n",
      "        171,  172,  174,  175,  177,  178,  179,  185,  187,  189,  190,\n",
      "        191,  193,  194,  195,  198,  200,  201,  204,  208,  211,  212,\n",
      "        213,  215,  217,  220,  221,  223,  224,  226,  229,  231,  233,\n",
      "        234,  235,  236,  237,  239,  240,  241,  242,  243,  249,  252,\n",
      "        256,  259,  264,  265,  267,  269,  274,  276,  277,  278,  279,\n",
      "        280,  282,  285,  286,  289,  290,  291,  292,  293,  294,  296,\n",
      "        297,  300,  304,  307,  308,  310,  311,  313,  314,  315,  316,\n",
      "        319,  320,  323,  325,  326,  327,  329,  330,  331,  334,  335,\n",
      "        341,  343,  347,  349,  351,  352,  353,  357,  361,  363,  365,\n",
      "        366,  368,  370,  371,  373,  375,  376,  377,  379,  380,  385,\n",
      "        388,  389,  396,  397,  399,  401,  402,  406,  409,  410,  411,\n",
      "        412,  415,  418,  419,  422,  427,  429,  430,  433,  434,  435,\n",
      "        436,  439,  442,  443,  444,  446,  447,  449,  450,  451,  454,\n",
      "        455,  456,  461,  463,  464,  466,  468,  472,  476,  493,  494,\n",
      "        496,  499,  500,  501,  502,  504,  505,  508,  509,  511,  517,\n",
      "        518,  519,  521,  524,  525,  526,  528,  530,  531,  532,  533,\n",
      "        536,  540,  541,  542,  543,  544,  545,  546,  548,  549,  550,\n",
      "        556,  557,  558,  559,  562,  564,  569,  570,  573,  574,  579,\n",
      "        580,  581,  582,  585,  586,  589,  590,  592,  595,  599,  603,\n",
      "        608,  612,  613,  620,  624,  627,  628,  629,  630,  632,  633,\n",
      "        638,  643,  645,  648,  654,  656,  657,  670,  674,  676,  683,\n",
      "        684,  686,  687,  689,  692,  693,  695,  696,  697,  699,  701,\n",
      "        702,  708,  709,  712,  713,  714,  716,  718,  731,  752,  753,\n",
      "        754,  762,  774,  776,  780,  783,  795,  804,  810,  818,  830,\n",
      "        844,  846,  851,  855,  856,  858,  861,  876,  884,  886,  888,\n",
      "        890,  892,  903,  909,  910,  913,  918,  932,  941,  947,  992,\n",
      "       1016, 1017]), array([   0,    1,    2,    4,    7,    8,    9,   10,   11,   12,   13,\n",
      "         14,   15,   16,   19,   21,   22,   24,   26,   27,   28,   29,\n",
      "         30,   33,   35,   38,   40,   42,   44,   47,   49,   50,   51,\n",
      "         52,   54,   56,   58,   65,   70,   72,   74,   75,   76,   77,\n",
      "         78,   79,   80,   81,   82,   84,   85,   86,   89,   92,   93,\n",
      "         96,   98,   99,  102,  103,  104,  105,  106,  108,  109,  110,\n",
      "        112,  115,  117,  119,  120,  121,  122,  123,  124,  125,  126,\n",
      "        128,  131,  133,  134,  136,  137,  141,  142,  144,  147,  148,\n",
      "        150,  152,  154,  155,  156,  157,  158,  159,  160,  161,  166,\n",
      "        168,  169,  170,  171,  172,  176,  177,  178,  179,  180,  182,\n",
      "        183,  186,  187,  188,  189,  191,  193,  194,  195,  198,  199,\n",
      "        200,  201,  204,  207,  209,  211,  212,  213,  215,  220,  221,\n",
      "        223,  224,  226,  227,  229,  232,  235,  239,  240,  241,  243,\n",
      "        244,  245,  248,  249,  251,  253,  256,  257,  259,  261,  264,\n",
      "        265,  266,  273,  274,  277,  279,  281,  282,  284,  285,  287,\n",
      "        289,  290,  292,  294,  295,  296,  300,  302,  303,  304,  307,\n",
      "        308,  309,  310,  311,  314,  315,  316,  319,  321,  323,  325,\n",
      "        326,  327,  328,  329,  330,  331,  333,  334,  335,  339,  341,\n",
      "        342,  347,  349,  351,  352,  353,  356,  357,  359,  360,  365,\n",
      "        366,  367,  370,  371,  372,  373,  375,  376,  377,  379,  380,\n",
      "        384,  385,  386,  388,  395,  396,  398,  399,  400,  402,  403,\n",
      "        405,  406,  408,  409,  410,  412,  414,  415,  416,  417,  418,\n",
      "        419,  420,  422,  424,  427,  430,  432,  433,  434,  435,  436,\n",
      "        437,  438,  440,  442,  443,  444,  446,  447,  449,  450,  453,\n",
      "        454,  455,  457,  461,  464,  466,  467,  468,  472,  475,  488,\n",
      "        492,  493,  494,  496,  497,  500,  501,  502,  505,  506,  507,\n",
      "        508,  509,  511,  517,  518,  519,  525,  526,  530,  531,  532,\n",
      "        533,  536,  540,  541,  542,  543,  544,  545,  546,  549,  554,\n",
      "        555,  556,  557,  558,  559,  561,  563,  564,  568,  570,  571,\n",
      "        574,  575,  582,  584,  585,  586,  589,  594,  597,  598,  604,\n",
      "        608,  613,  614,  621,  624,  629,  630,  635,  643,  651,  654,\n",
      "        656,  657,  661,  667,  668,  669,  670,  674,  676,  679,  683,\n",
      "        687,  689,  693,  695,  696,  698,  701,  702,  706,  708,  712,\n",
      "        713,  714,  718,  723,  745,  752,  753,  754,  760,  762,  764,\n",
      "        783,  785,  794,  795,  818,  830,  834,  842,  846,  849,  858,\n",
      "        861,  884,  886,  888,  892,  903,  910,  918,  926,  935,  936,\n",
      "        941,  947,  973, 1016, 1017])]\n"
     ]
    }
   ],
   "source": [
    "print(D1.tuned_cells)"
   ]
  },
  {
   "cell_type": "code",
   "execution_count": 14,
   "metadata": {},
   "outputs": [
    {
     "name": "stdout",
     "output_type": "stream",
     "text": [
      "680\n"
     ]
    }
   ],
   "source": [
    "print(len(cellids))"
   ]
  },
  {
   "cell_type": "code",
   "execution_count": 15,
   "metadata": {},
   "outputs": [
    {
     "name": "stdout",
     "output_type": "stream",
     "text": [
      "[ 13  89 106 185 221 310 313 320 327 357 409 468 521 571 818 913]\n"
     ]
    }
   ],
   "source": [
    "print(D1.similar_cells)"
   ]
  },
  {
   "cell_type": "markdown",
   "metadata": {},
   "source": [
    "### 8.  Plot the activity lap by lap\n",
    "We can also plot the lap by lap activity of a selected cell. Again, there are several options, but the simplest is to plot the rate as a function of position."
   ]
  },
  {
   "cell_type": "code",
   "execution_count": 19,
   "metadata": {
    "scrolled": false
   },
   "outputs": [
    {
     "data": {
      "application/vnd.jupyter.widget-view+json": {
       "model_id": "d321ff4baf96462994cb97d52f1db1f2",
       "version_major": 2,
       "version_minor": 0
      },
      "text/plain": [
       "Canvas(toolbar=Toolbar(toolitems=[('Home', 'Reset original view', 'home', 'home'), ('Back', 'Back to previous …"
      ]
     },
     "metadata": {},
     "output_type": "display_data"
    }
   ],
   "source": [
    "D1.plot_cell_laps(cellid=89, signal='rate') ## look at lap 20"
   ]
  },
  {
   "cell_type": "code",
   "execution_count": 16,
   "metadata": {
    "scrolled": false
   },
   "outputs": [
    {
     "name": "stdout",
     "output_type": "stream",
     "text": [
      "Session parameters written into file:  cell_properties_corridor_3_N1022.csv\n",
      "cell properties for corridor 3  saved into file:  /Users/ubi/Projects/KOKI/VR/MiceData/data/srb059_imaging/Suite2P_4_19-05-2021/analysed_data/cell_properties_corridor_3_N1022.csv\n",
      "Session parameters written into file:  cell_properties_corridor_4_N1022.csv\n",
      "cell properties for corridor 4  saved into file:  /Users/ubi/Projects/KOKI/VR/MiceData/data/srb059_imaging/Suite2P_4_19-05-2021/analysed_data/cell_properties_corridor_4_N1022.csv\n",
      "Session parameters written into file:  ratemaps_corridor_3_N1022.csv\n",
      "ratemap for corridor 3  saved into file:  /Users/ubi/Projects/KOKI/VR/MiceData/data/srb059_imaging/Suite2P_4_19-05-2021/analysed_data/ratemaps_corridor_3_N1022.csv\n",
      "Session parameters written into file:  ratemaps_corridor_4_N1022.csv\n",
      "ratemap for corridor 4  saved into file:  /Users/ubi/Projects/KOKI/VR/MiceData/data/srb059_imaging/Suite2P_4_19-05-2021/analysed_data/ratemaps_corridor_4_N1022.csv\n",
      "Session parameters written into file:  lapdata_lap_33_N1022.csv\n",
      "Session parameters written into file:  lapdata_lap_34_N1022.csv\n",
      "Session parameters written into file:  lapdata_lap_35_N1022.csv\n",
      "Session parameters written into file:  lapdata_lap_36_N1022.csv\n",
      "Session parameters written into file:  lapdata_lap_37_N1022.csv\n",
      "Session parameters written into file:  lapdata_lap_38_N1022.csv\n",
      "Session parameters written into file:  lapdata_lap_39_N1022.csv\n",
      "Session parameters written into file:  lapdata_lap_40_N1022.csv\n",
      "Session parameters written into file:  lapdata_lap_41_N1022.csv\n",
      "Session parameters written into file:  lapdata_lap_42_N1022.csv\n",
      "Session parameters written into file:  lapdata_lap_43_N1022.csv\n",
      "Session parameters written into file:  lapdata_lap_44_N1022.csv\n",
      "Session parameters written into file:  lapdata_lap_45_N1022.csv\n",
      "Session parameters written into file:  lapdata_lap_46_N1022.csv\n",
      "Session parameters written into file:  lapdata_lap_47_N1022.csv\n",
      "Session parameters written into file:  lapdata_lap_48_N1022.csv\n",
      "Session parameters written into file:  lapdata_lap_49_N1022.csv\n",
      "Session parameters written into file:  lapdata_lap_50_N1022.csv\n",
      "Session parameters written into file:  lapdata_lap_51_N1022.csv\n",
      "Session parameters written into file:  lapdata_lap_52_N1022.csv\n",
      "Session parameters written into file:  lapdata_lap_53_N1022.csv\n",
      "Session parameters written into file:  lapdata_lap_54_N1022.csv\n",
      "Session parameters written into file:  lapdata_lap_55_N1022.csv\n",
      "Session parameters written into file:  lapdata_lap_56_N1022.csv\n",
      "Session parameters written into file:  lapdata_lap_57_N1022.csv\n",
      "Session parameters written into file:  lapdata_lap_58_N1022.csv\n",
      "Session parameters written into file:  lapdata_lap_59_N1022.csv\n",
      "Session parameters written into file:  lapdata_lap_60_N1022.csv\n",
      "Session parameters written into file:  lapdata_lap_61_N1022.csv\n",
      "Session parameters written into file:  lapdata_lap_62_N1022.csv\n",
      "Session parameters written into file:  lapdata_lap_63_N1022.csv\n",
      "Session parameters written into file:  lapdata_lap_64_N1022.csv\n",
      "Session parameters written into file:  lapdata_lap_65_N1022.csv\n",
      "Session parameters written into file:  lapdata_lap_66_N1022.csv\n",
      "Session parameters written into file:  lapdata_lap_67_N1022.csv\n",
      "Session parameters written into file:  lapdata_lap_68_N1022.csv\n",
      "Session parameters written into file:  lapdata_lap_69_N1022.csv\n",
      "Session parameters written into file:  lapdata_lap_70_N1022.csv\n",
      "Session parameters written into file:  lapdata_lap_71_N1022.csv\n",
      "Session parameters written into file:  lapdata_lap_72_N1022.csv\n",
      "Session parameters written into file:  lapdata_lap_73_N1022.csv\n",
      "Session parameters written into file:  lapdata_lap_74_N1022.csv\n",
      "Session parameters written into file:  lapdata_lap_75_N1022.csv\n",
      "Session parameters written into file:  lapdata_lap_76_N1022.csv\n",
      "Session parameters written into file:  lapdata_lap_77_N1022.csv\n",
      "Session parameters written into file:  lapdata_lap_78_N1022.csv\n",
      "Session parameters written into file:  lapdata_lap_79_N1022.csv\n",
      "Session parameters written into file:  lapdata_lap_80_N1022.csv\n",
      "Session parameters written into file:  lapdata_lap_81_N1022.csv\n",
      "Session parameters written into file:  lapdata_lap_82_N1022.csv\n",
      "Session parameters written into file:  lapdata_lap_83_N1022.csv\n",
      "Session parameters written into file:  lapdata_lap_84_N1022.csv\n",
      "Session parameters written into file:  lapdata_lap_85_N1022.csv\n",
      "Session parameters written into file:  lapdata_lap_86_N1022.csv\n",
      "Session parameters written into file:  lapdata_lap_87_N1022.csv\n",
      "Session parameters written into file:  lapdata_lap_88_N1022.csv\n",
      "Session parameters written into file:  lapdata_lap_89_N1022.csv\n",
      "Session parameters written into file:  lapdata_lap_90_N1022.csv\n",
      "Session parameters written into file:  lapdata_lap_91_N1022.csv\n",
      "Session parameters written into file:  lapdata_lap_92_N1022.csv\n",
      "Session parameters written into file:  lapdata_lap_93_N1022.csv\n",
      "Session parameters written into file:  lapdata_lap_94_N1022.csv\n",
      "Session parameters written into file:  lapdata_lap_95_N1022.csv\n",
      "Session parameters written into file:  lapdata_lap_96_N1022.csv\n",
      "Session parameters written into file:  lapdata_lap_97_N1022.csv\n",
      "Session parameters written into file:  lapdata_lap_98_N1022.csv\n",
      "Session parameters written into file:  lapdata_lap_99_N1022.csv\n",
      "Session parameters written into file:  lapdata_lap_100_N1022.csv\n",
      "Session parameters written into file:  lapdata_lap_101_N1022.csv\n",
      "Session parameters written into file:  lapdata_lap_102_N1022.csv\n",
      "Session parameters written into file:  lapdata_lap_103_N1022.csv\n",
      "Session parameters written into file:  lapdata_lap_104_N1022.csv\n",
      "Session parameters written into file:  lapdata_lap_105_N1022.csv\n",
      "Session parameters written into file:  lapdata_lap_106_N1022.csv\n",
      "Session parameters written into file:  lapdata_lap_107_N1022.csv\n",
      "Session parameters written into file:  lapdata_lap_108_N1022.csv\n",
      "Session parameters written into file:  lapdata_lap_109_N1022.csv\n",
      "Session parameters written into file:  lapdata_lap_110_N1022.csv\n",
      "Session parameters written into file:  lapdata_lap_111_N1022.csv\n",
      "Session parameters written into file:  lapdata_lap_112_N1022.csv\n",
      "Session parameters written into file:  lapdata_lap_113_N1022.csv\n",
      "Session parameters written into file:  lapdata_lap_114_N1022.csv\n",
      "Session parameters written into file:  lapdata_lap_115_N1022.csv\n",
      "Session parameters written into file:  lapdata_lap_116_N1022.csv\n",
      "Session parameters written into file:  lapdata_lap_117_N1022.csv\n",
      "Session parameters written into file:  lapdata_lap_118_N1022.csv\n",
      "Session parameters written into file:  lapdata_lap_119_N1022.csv\n",
      "Session parameters written into file:  lapdata_lap_120_N1022.csv\n",
      "Session parameters written into file:  lapdata_lap_121_N1022.csv\n",
      "Session parameters written into file:  lapdata_lap_122_N1022.csv\n",
      "Session parameters written into file:  lapdata_lap_123_N1022.csv\n",
      "Session parameters written into file:  lapdata_lap_124_N1022.csv\n",
      "Session parameters written into file:  lapdata_lap_125_N1022.csv\n",
      "Session parameters written into file:  lapdata_lap_126_N1022.csv\n",
      "Session parameters written into file:  lapdata_lap_127_N1022.csv\n",
      "Session parameters written into file:  lapdata_lap_128_N1022.csv\n",
      "Session parameters written into file:  lapdata_lap_129_N1022.csv\n",
      "Session parameters written into file:  lapdata_lap_130_N1022.csv\n",
      "Session parameters written into file:  lapdata_lap_131_N1022.csv\n",
      "Session parameters written into file:  lapdata_lap_132_N1022.csv\n",
      "Session parameters written into file:  lapdata_lap_133_N1022.csv\n",
      "Session parameters written into file:  lapdata_lap_134_N1022.csv\n",
      "Session parameters written into file:  lapdata_lap_135_N1022.csv\n",
      "Session parameters written into file:  lapdata_lap_136_N1022.csv\n",
      "Session parameters written into file:  lapdata_lap_137_N1022.csv\n",
      "Session parameters written into file:  lapdata_lap_138_N1022.csv\n",
      "Session parameters written into file:  lapdata_lap_139_N1022.csv\n",
      "Session parameters written into file:  lapdata_lap_140_N1022.csv\n",
      "Session parameters written into file:  lapdata_lap_141_N1022.csv\n",
      "Session parameters written into file:  lapdata_lap_142_N1022.csv\n",
      "Session parameters written into file:  lapdata_lap_143_N1022.csv\n",
      "Session parameters written into file:  lapdata_lap_144_N1022.csv\n",
      "Session parameters written into file:  lapdata_lap_145_N1022.csv\n"
     ]
    },
    {
     "name": "stdout",
     "output_type": "stream",
     "text": [
      "Session parameters written into file:  lapdata_lap_146_N1022.csv\n",
      "Session parameters written into file:  lapdata_lap_147_N1022.csv\n",
      "Session parameters written into file:  lapdata_lap_148_N1022.csv\n",
      "Session parameters written into file:  lapdata_lap_149_N1022.csv\n",
      "Session parameters written into file:  lapdata_lap_150_N1022.csv\n",
      "Session parameters written into file:  lapdata_lap_151_N1022.csv\n",
      "Session parameters written into file:  lapdata_lap_152_N1022.csv\n",
      "Session parameters written into file:  lapdata_lap_153_N1022.csv\n",
      "Session parameters written into file:  lapdata_lap_154_N1022.csv\n",
      "Session parameters written into file:  lapdata_lap_155_N1022.csv\n",
      "Session parameters written into file:  lapdata_lap_156_N1022.csv\n",
      "Session parameters written into file:  lapdata_lap_157_N1022.csv\n",
      "Session parameters written into file:  lapdata_lap_158_N1022.csv\n",
      "Session parameters written into file:  lapdata_lap_159_N1022.csv\n",
      "Session parameters written into file:  lapdata_lap_160_N1022.csv\n",
      "Session parameters written into file:  lapdata_lap_161_N1022.csv\n",
      "Session parameters written into file:  lapdata_lap_162_N1022.csv\n",
      "Session parameters written into file:  lapdata_lap_163_N1022.csv\n",
      "Session parameters written into file:  lapdata_lap_164_N1022.csv\n",
      "Session parameters written into file:  lapdata_lap_165_N1022.csv\n",
      "Session parameters written into file:  lapdata_lap_166_N1022.csv\n",
      "Session parameters written into file:  lapdata_lap_167_N1022.csv\n",
      "lapdata saved into file: /Users/ubi/Projects/KOKI/VR/MiceData/data/srb059_imaging/Suite2P_4_19-05-2021/analysed_data/lapdata_lap_167_N1022.csv\n"
     ]
    }
   ],
   "source": [
    "D1.save_data()"
   ]
  },
  {
   "cell_type": "code",
   "execution_count": null,
   "metadata": {},
   "outputs": [],
   "source": []
  }
 ],
 "metadata": {
  "kernelspec": {
   "display_name": "Python 3",
   "language": "python",
   "name": "python3"
  },
  "language_info": {
   "codemirror_mode": {
    "name": "ipython",
    "version": 3
   },
   "file_extension": ".py",
   "mimetype": "text/x-python",
   "name": "python",
   "nbconvert_exporter": "python",
   "pygments_lexer": "ipython3",
   "version": "3.8.5"
  }
 },
 "nbformat": 4,
 "nbformat_minor": 4
}
