{
 "cells": [
  {
   "cell_type": "markdown",
   "metadata": {},
   "source": [
    "# Analysis of the imaging experiment\n",
    "mouse name: 067 (or 057?)  \n",
    "task: NearFarLong  \n",
    "experimentalist: Snezana Raus-Balind  \n",
    "\n",
    "### 1. Load the necessary object class\n",
    "We use a custom-made class, ImagingSessionData, that will contain all behavioral and imaging data"
   ]
  },
  {
   "cell_type": "code",
   "execution_count": 1,
   "metadata": {},
   "outputs": [],
   "source": [
    "from ImageAnal import *\n",
    "%matplotlib widget"
   ]
  },
  {
   "cell_type": "markdown",
   "metadata": {},
   "source": [
    "### 2. Tell python where the data is\n",
    "The required file structure is the following:  \n",
    "- All data should be in the data folder\n",
    "- Within the data folder separate subfolders are needed for each mouse. Folder name starts with the **name** of the mouse.\n",
    "- For each mouse there should be at least two folders: one for the **imaging** data and one for the **behavioral** data.\n",
    "- The behavioral folder is named as `MouseName_TaskName` - so we need a separate folder for each different task\n",
    "- The behavioral log files are in separate subfolders named by the experiment's start time within the behavioral folder - e.g. `2021-02-03_10-15-50`\n",
    "- The imaging folder is named as `MouseName_imaging`\n",
    "- The suite2p imaging files are also in separate folders for each experiment below the imaging folder. "
   ]
  },
  {
   "cell_type": "code",
   "execution_count": 2,
   "metadata": {},
   "outputs": [],
   "source": [
    "datapath = os.getcwd() + '/' #current working directory - look for data and strings here!\n",
    "date_time = '2021-02-05_11-32-15' # date and time of the imaging session\n",
    "name = 'srb067' # mouse name\n",
    "task = 'NearFarLong' # task name\n",
    "\n",
    "## locate the suite2p folder\n",
    "suite2p_folder = datapath + 'data/' + name + '_imaging/Suite2P_1_06-07-2021_manual_ROI/'\n",
    "\n",
    "## the name and location of the imaging log file\n",
    "imaging_logfile_name = suite2p_folder + 'srb057_TSeries-02052021-0813-002.xml'\n",
    "\n",
    "## the name and location of the trigger voltage file\n",
    "TRIGGER_VOLTAGE_FILENAME = suite2p_folder + 'srb057_TSeries-02052021-0813-002_Cycle00001_VoltageRecording_001.csv'"
   ]
  },
  {
   "cell_type": "markdown",
   "metadata": {},
   "source": [
    "### 3. Load all the data - this takes ~20 secs in my computer\n",
    "Python looks for the data in the specified folders. It loads the behavioral data (position, lick and rewards) as well as the imaging data. It calculates the activity of the cells as a function of position in the different corridors and calculates their spatial tuning measures and corridor selectivity.  \n",
    "The name of the object that contains all the data is `D1` here - Data 1."
   ]
  },
  {
   "cell_type": "code",
   "execution_count": 3,
   "metadata": {},
   "outputs": [
    {
     "name": "stdout",
     "output_type": "stream",
     "text": [
      "trigger logfile loaded\n",
      "trigger voltage signal loaded\n",
      "triggers after: 40\n",
      "n_extra_indexes 5\n",
      "candidate log indexes [0, 99, 198, 229]\n",
      "min recorded trigger length: 0.011800000000008026\n",
      "relevant behavior located, lap time of the first frame: 984.608327 , log reference index: 99\n",
      "slight warning - testing some late candidates failed\n",
      "suite2p data loaded\n",
      "corrected offset: 984.6053269999994 voltage_delay: 0.00300000000061118\n",
      "suite2p time axis loaded\n",
      "calculating dF/F and SNR...\n",
      "SNR done\n",
      "dF/F calculated for cell ROI-s\n",
      "ExpStateMachineLog time interval > 1s:  40  times\n",
      "Warning: rewarded lap with no lick in zone! lap number:2\n",
      "############################################################\n",
      "substage change detected!\n",
      "first lap in substage  ['1'] is lap 3 , which started at t 417.73697223613453\n",
      "the time of the change in imaging time is:  -566.8713547638655\n",
      "############################################################\n",
      "calculating rate, reliability and Fano factor...\n",
      "calculating Skaggs spatial info...\n",
      "calculating proportion of active laps...\n",
      "calculating proportion of active laps based on dF/F ...\n",
      "calculating linear tuning specificity ...\n",
      "calculating rate, reliability and Fano factor...\n",
      "calculating Skaggs spatial info...\n",
      "calculating proportion of active laps...\n",
      "calculating proportion of active laps based on dF/F ...\n",
      "calculating linear tuning specificity ...\n",
      "calculating corridor selectivity ...\n",
      "calculating corridor similarity ...\n"
     ]
    }
   ],
   "source": [
    "# 3. load all the data - this taks ~20 secs in my computer\n",
    "D1 = ImagingSessionData(datapath, date_time, name, task, suite2p_folder, imaging_logfile_name, TRIGGER_VOLTAGE_FILENAME)#, startendlap=[27, 99])\n"
   ]
  },
  {
   "cell_type": "markdown",
   "metadata": {},
   "source": [
    "The behavior is divided into laps (trials or runs). You can check the **number of laps** and which lap is associated with imaging data in the following way:"
   ]
  },
  {
   "cell_type": "code",
   "execution_count": 4,
   "metadata": {
    "scrolled": true
   },
   "outputs": [
    {
     "name": "stdout",
     "output_type": "stream",
     "text": [
      "229\n",
      "[ 83  84  85  86  87  88  89  90  91  92  93  94  95  96  97  98  99 100\n",
      " 101 102 103 104 105 106 107 108 109 110 111 112 113 114 115 116 117 118\n",
      " 119 120 121 122 123 124 125 126 127 128 129 130 131 132 133 134 135 136\n",
      " 137 138]\n"
     ]
    }
   ],
   "source": [
    "print(D1.n_laps)\n",
    "print(D1.i_Laps_ImData)"
   ]
  },
  {
   "cell_type": "markdown",
   "metadata": {},
   "source": [
    "So we have 229 laps and laps 83-138 contain imaging data.  \n",
    "### 4. Plotting the behavioral data\n",
    "You can plot the behavioral data of the session:"
   ]
  },
  {
   "cell_type": "code",
   "execution_count": 5,
   "metadata": {},
   "outputs": [
    {
     "data": {
      "application/vnd.jupyter.widget-view+json": {
       "model_id": "acc91011ec8249f88615de243b9459f6",
       "version_major": 2,
       "version_minor": 0
      },
      "text/plain": [
       "Canvas(toolbar=Toolbar(toolitems=[('Home', 'Reset original view', 'home', 'home'), ('Back', 'Back to previous …"
      ]
     },
     "metadata": {},
     "output_type": "display_data"
    }
   ],
   "source": [
    "#D1.plot_session()\n",
    "D1.plot_session(selected_laps=D1.i_Laps_ImData)"
   ]
  },
  {
   "cell_type": "markdown",
   "metadata": {},
   "source": [
    "### 5. Plot the ratemaps\n",
    "First, we plot the ratemaps of some neurons. There are several options - selecting the cells, sorting and normalising the ratemaps.\n",
    "- selection: here we select all active cells (activity in at least 20% of laps), but any other selection criteria \n",
    "- sorting: place fields can be sorted by either corridors\n",
    "- place cells can be normalised - so the peak has the same height"
   ]
  },
  {
   "cell_type": "code",
   "execution_count": 6,
   "metadata": {},
   "outputs": [
    {
     "data": {
      "text/plain": [
       "(75, 4)"
      ]
     },
     "execution_count": 6,
     "metadata": {},
     "output_type": "execute_result"
    }
   ],
   "source": [
    "D1.ratemaps[1].shape"
   ]
  },
  {
   "cell_type": "code",
   "execution_count": 7,
   "metadata": {},
   "outputs": [
    {
     "data": {
      "application/vnd.jupyter.widget-view+json": {
       "model_id": "c4d4d9af239845fc8e3f94a908ed99be",
       "version_major": 2,
       "version_minor": 0
      },
      "text/plain": [
       "Canvas(toolbar=Toolbar(toolitems=[('Home', 'Reset original view', 'home', 'home'), ('Back', 'Back to previous …"
      ]
     },
     "metadata": {},
     "output_type": "display_data"
    }
   ],
   "source": [
    "cellids = np.arange(4)\n",
    "D1.plot_ratemaps(cellids = cellids, sorted=False, normalized=False)"
   ]
  },
  {
   "cell_type": "markdown",
   "metadata": {},
   "source": [
    "### 6. Plot the spatial properies of the neurons"
   ]
  },
  {
   "cell_type": "code",
   "execution_count": 8,
   "metadata": {
    "scrolled": true
   },
   "outputs": [
    {
     "data": {
      "application/vnd.jupyter.widget-view+json": {
       "model_id": "25a227b43e564857969956ab2af37570",
       "version_major": 2,
       "version_minor": 0
      },
      "text/plain": [
       "Canvas(toolbar=Toolbar(toolitems=[('Home', 'Reset original view', 'home', 'home'), ('Back', 'Back to previous …"
      ]
     },
     "metadata": {},
     "output_type": "display_data"
    }
   ],
   "source": [
    "D1.plot_properties(cellids=cellids, interactive=False)"
   ]
  },
  {
   "cell_type": "markdown",
   "metadata": {},
   "source": [
    "### 7. Calculate significance of tuning by shuffling the imaging data "
   ]
  },
  {
   "cell_type": "code",
   "execution_count": 9,
   "metadata": {},
   "outputs": [
    {
     "name": "stdout",
     "output_type": "stream",
     "text": [
      "loading shuffling P-values from file...\n",
      "tuned cells: [array([], dtype=int64), array([], dtype=int64)]\n",
      "selective cells: []\n",
      "similar cells: []\n"
     ]
    }
   ],
   "source": [
    "D1.calc_shuffle(cellids, 1000, 'shift')"
   ]
  },
  {
   "cell_type": "code",
   "execution_count": 10,
   "metadata": {},
   "outputs": [
    {
     "data": {
      "text/plain": [
       "array([[0.   , 0.366, 0.318, 0.367, 0.304, 0.464, 0.291, 0.148, 0.107,\n",
       "        0.   , 0.   ],\n",
       "       [1.   , 0.54 , 0.479, 0.32 , 0.222, 0.624, 0.309, 0.151, 0.09 ,\n",
       "        0.   , 0.   ],\n",
       "       [2.   , 0.489, 0.569, 0.246, 0.438, 0.967, 0.024, 0.409, 0.479,\n",
       "        0.   , 0.   ],\n",
       "       [3.   , 0.017, 0.998, 0.259, 0.283, 0.644, 0.741, 0.141, 0.544,\n",
       "        0.   , 0.   ]])"
      ]
     },
     "execution_count": 10,
     "metadata": {},
     "output_type": "execute_result"
    }
   ],
   "source": [
    "D1.shuffle_Pvalues"
   ]
  },
  {
   "cell_type": "markdown",
   "metadata": {},
   "source": [
    "### 6.  Plot the activity lap by lap\n",
    "We can also plot the lap by lap activity of a selected cell. Again, there are several options, but the simplest is to plot the rate as a function of position."
   ]
  },
  {
   "cell_type": "code",
   "execution_count": 11,
   "metadata": {
    "scrolled": false
   },
   "outputs": [
    {
     "data": {
      "application/vnd.jupyter.widget-view+json": {
       "model_id": "701efa157fd1442d9dce003e4fd3e476",
       "version_major": 2,
       "version_minor": 0
      },
      "text/plain": [
       "Canvas(toolbar=Toolbar(toolitems=[('Home', 'Reset original view', 'home', 'home'), ('Back', 'Back to previous …"
      ]
     },
     "metadata": {},
     "output_type": "display_data"
    }
   ],
   "source": [
    "D1.plot_cell_laps(cellid=3, signal='rate') ## look at lap 20"
   ]
  },
  {
   "cell_type": "code",
   "execution_count": 12,
   "metadata": {
    "scrolled": false
   },
   "outputs": [
    {
     "data": {
      "application/vnd.jupyter.widget-view+json": {
       "model_id": "a02182c5226046068e2f07a2a0f88eb8",
       "version_major": 2,
       "version_minor": 0
      },
      "text/plain": [
       "Canvas(toolbar=Toolbar(toolitems=[('Home', 'Reset original view', 'home', 'home'), ('Back', 'Back to previous …"
      ]
     },
     "metadata": {},
     "output_type": "display_data"
    }
   ],
   "source": [
    "D1.plot_cell_laps(cellid=3, signal='dF') ## look at lap 20"
   ]
  },
  {
   "cell_type": "code",
   "execution_count": null,
   "metadata": {},
   "outputs": [],
   "source": []
  }
 ],
 "metadata": {
  "kernelspec": {
   "display_name": "Python 3",
   "language": "python",
   "name": "python3"
  },
  "language_info": {
   "codemirror_mode": {
    "name": "ipython",
    "version": 3
   },
   "file_extension": ".py",
   "mimetype": "text/x-python",
   "name": "python",
   "nbconvert_exporter": "python",
   "pygments_lexer": "ipython3",
   "version": "3.8.5"
  }
 },
 "nbformat": 4,
 "nbformat_minor": 4
}
